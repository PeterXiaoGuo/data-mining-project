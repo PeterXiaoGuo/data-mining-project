{
 "cells": [
  {
   "cell_type": "code",
   "execution_count": 25,
   "metadata": {
    "collapsed": true
   },
   "outputs": [],
   "source": [
    "import numpy as np"
   ]
  },
  {
   "cell_type": "code",
   "execution_count": 26,
   "metadata": {
    "collapsed": true
   },
   "outputs": [],
   "source": [
    "data = np.load('data/handout_test.npy')"
   ]
  },
  {
   "cell_type": "code",
   "execution_count": 9,
   "metadata": {
    "collapsed": false
   },
   "outputs": [
    {
     "name": "stdout",
     "output_type": "stream",
     "text": [
      "(10000, 250)\n",
      "CPU times: user 1min 2s, sys: 4.61 s, total: 1min 7s\n",
      "Wall time: 1min 2s\n"
     ]
    },
    {
     "data": {
      "text/plain": [
       "KMeans(algorithm='auto', copy_x=True, init='k-means++', max_iter=300,\n",
       "    n_clusters=200, n_init=10, n_jobs=1, precompute_distances='auto',\n",
       "    random_state=None, tol=0.0001, verbose=0)"
      ]
     },
     "execution_count": 9,
     "metadata": {},
     "output_type": "execute_result"
    }
   ],
   "source": [
    "X = data[:10000,:]\n",
    "print(X.shape)\n",
    "kmeans = KMeans(n_clusters=200)\n",
    "%time kmeans.fit(X)"
   ]
  },
  {
   "cell_type": "code",
   "execution_count": 14,
   "metadata": {
    "collapsed": false
   },
   "outputs": [
    {
     "name": "stdout",
     "output_type": "stream",
     "text": [
      "(200, 250)\n"
     ]
    }
   ],
   "source": [
    "\n",
    "Y = X[np.random.permutation(X.shape[0])[:200],:]\n",
    "print(Y.shape)"
   ]
  },
  {
   "cell_type": "code",
   "execution_count": 41,
   "metadata": {
    "collapsed": true
   },
   "outputs": [],
   "source": [
    "def euclidean_distance(X, Y):\n",
    "    if len(Y.shape) == 1:\n",
    "        return np.sum((X-Y)**2, axis=1)\n",
    "    \n",
    "    assert X.shape[1] == Y.shape[1], 'Last dimension do not match'\n",
    "    \n",
    "    result = np.zeros((X.shape[0], Y.shape[0]))\n",
    "    for i in range(X.shape[0]):\n",
    "        result[i,:] = euclidean_distance(Y, X[i,:])\n",
    "    return result\n",
    "\n",
    "class KMeans(object):\n",
    "\n",
    "    def __init__(self, n_clusters=200, n_init=10, max_iter=300, tol=.0001):\n",
    "        self.n_clusters = n_clusters\n",
    "        self.n_init = n_init\n",
    "        self.max_iter = max_iter\n",
    "        self.tol = tol\n",
    "\n",
    "    def _kmeans_pp_init(self, X):\n",
    "        # Centers container\n",
    "        centers = np.zeros((self.n_clusters, X.shape[-1]))\n",
    "        # Choose the first center\n",
    "        centers[0,:] = X[np.random.randint(X.shape[0]),:]\n",
    "\n",
    "        n_local_trials = 2*int(np.log(self.n_clusters))\n",
    "\n",
    "        closest_dist_sq = np.sum((X-centers[0])**2, axis=1)\n",
    "        current_pot = closest_dist_sq.sum()\n",
    "\n",
    "        for c in range(self.n_clusters - 1):\n",
    "            rand_vals = np.random.random_sample(n_local_trials) * current_pot\n",
    "            candidate_ids = np.searchsorted(closest_dist_sq.cumsum(), rand_vals)\n",
    "\n",
    "            distance_to_candidates = euclidean_distance(X[candidate_ids], X)\n",
    "            best_candidate = None\n",
    "            best_pot = None\n",
    "            best_dist_sq = None\n",
    "            for trial in range(n_local_trials):\n",
    "                new_dist_sq = np.minimum(closest_dist_sq,\n",
    "                                         distance_to_candidates[trial])\n",
    "                new_pot = new_dist_sq.sum()\n",
    "\n",
    "                if (best_candidate is None) or (new_pot < best_pot):\n",
    "                    best_candidate = candidate_ids[trial]\n",
    "                    best_pot = new_pot\n",
    "                    best_dist_sq = new_dist_sq\n",
    "            \n",
    "            centers[c] = X[best_candidate]\n",
    "            current_pot = best_pot\n",
    "            closest_dist_sq = best_dist_sq\n",
    "        \n",
    "        print('Initialization kmeans++ finished')\n",
    "        return centers\n",
    "            \n",
    "    def fit(self, X):\n",
    "\n",
    "        best_centers, best_inertia, best_labels = None, None, None\n",
    "\n",
    "        n_samples = X.shape[0]\n",
    "\n",
    "\n",
    "        for i in range(self.n_init):\n",
    "\n",
    "            # Initialize the centers choosing randomly n_clusters points\n",
    "            # centers = X[np.random.permutation(X.shape[0])[:self.n_clusters],:]\n",
    "            centers = self._kmeans_pp_init(X)\n",
    "            \n",
    "            it = 0\n",
    "            prev_L = 0\n",
    "            while it < self.max_iter:\n",
    "\n",
    "                L = 0\n",
    "                # Assign to each point the index of the closest center\n",
    "                labels = np.zeros(n_samples, dtype='int')\n",
    "                for j in range(n_samples):\n",
    "                    d_2 = np.sum((centers-X[j,:])**2, axis=1)\n",
    "                    labels[j] = np.argmin(d_2)\n",
    "                    L += np.min(d_2)\n",
    "                L /= n_samples\n",
    "\n",
    "                # Update\n",
    "                for l in range(self.n_clusters):\n",
    "                    P = X[labels==l,:]\n",
    "                    centers[l] = np.mean(P, axis=0)\n",
    "\n",
    "                # Check convergence\n",
    "                if abs(prev_L - L) < self.tol:\n",
    "                    break\n",
    "                prev_L = L\n",
    "\n",
    "                #print('Iteration {}\\tInertia: {}'.format(it, L))\n",
    "                it += 1\n",
    "\n",
    "            if it == self.max_iter: print('Maximum iteration reached')\n",
    "            else: print('Finished with {} iterations and intertia {}'.format(it, L))\n",
    "            # Compute intertia and update the best parameters\n",
    "            inertia = L\n",
    "            if best_inertia is None or inertia < best_inertia:\n",
    "                best_inertia = inertia\n",
    "                best_centers = centers\n",
    "                best_labels = labels\n",
    "\n",
    "            print('End init {}'.format(i))\n",
    "\n",
    "        self.cluster_centers_ = best_centers\n"
   ]
  },
  {
   "cell_type": "code",
   "execution_count": 42,
   "metadata": {
    "collapsed": false
   },
   "outputs": [
    {
     "name": "stdout",
     "output_type": "stream",
     "text": [
      "Initialization kmeans++ finished\n",
      "Finished with 7 iterations and intertia 4.316111903430198\n",
      "End init 0\n",
      "Initialization kmeans++ finished\n",
      "Finished with 8 iterations and intertia 4.342793510823031\n",
      "End init 1\n",
      "Initialization kmeans++ finished\n",
      "Finished with 7 iterations and intertia 4.393739510960579\n",
      "End init 2\n",
      "Initialization kmeans++ finished\n",
      "Finished with 8 iterations and intertia 4.327777775042095\n",
      "End init 3\n",
      "Initialization kmeans++ finished\n",
      "Finished with 14 iterations and intertia 4.339279870439088\n",
      "End init 4\n",
      "Initialization kmeans++ finished\n",
      "Finished with 10 iterations and intertia 4.350579746229051\n",
      "End init 5\n",
      "Initialization kmeans++ finished\n",
      "Finished with 7 iterations and intertia 4.3789017136882755\n",
      "End init 6\n",
      "Initialization kmeans++ finished\n",
      "Finished with 8 iterations and intertia 4.348105085255257\n",
      "End init 7\n",
      "Initialization kmeans++ finished\n",
      "Finished with 8 iterations and intertia 4.346033050439061\n",
      "End init 8\n",
      "Initialization kmeans++ finished\n",
      "Finished with 9 iterations and intertia 4.345684005232439\n",
      "End init 9\n",
      "CPU times: user 1min 3s, sys: 15.5 s, total: 1min 19s\n",
      "Wall time: 1min 33s\n"
     ]
    }
   ],
   "source": [
    "kmeans = KMeans(n_clusters=200)\n",
    "X = data[:1000,:]\n",
    "%time kmeans.fit(X)"
   ]
  },
  {
   "cell_type": "code",
   "execution_count": 43,
   "metadata": {
    "collapsed": false
   },
   "outputs": [
    {
     "data": {
      "text/plain": [
       "array([[ -2.12554856e+00,   8.53811117e-02,   5.05521858e-01, ...,\n",
       "         -8.38673285e-02,   6.35224359e-02,  -6.09347910e-02],\n",
       "       [  1.09764621e+00,   4.64237909e+00,   5.20233202e+00, ...,\n",
       "          3.72987255e+00,  -7.49881911e-02,   5.60653651e+00],\n",
       "       [  3.93047557e+00,   2.21806991e-01,  -5.76953517e-01, ...,\n",
       "         -1.58185758e-02,  -3.49364676e-03,  -1.38816826e-02],\n",
       "       ..., \n",
       "       [  1.42550827e-01,   1.95269054e+00,   3.57837703e-01, ...,\n",
       "         -4.52166278e-03,  -1.22249452e-02,   6.47396512e-05],\n",
       "       [ -2.92694814e+00,  -4.46473285e-01,   2.73627584e-01, ...,\n",
       "         -2.28395512e-02,   2.68499910e-03,   4.22166468e-02],\n",
       "       [  1.58667798e-01,  -2.85892451e-02,  -1.41631252e-02, ...,\n",
       "          5.93032968e-03,  -8.89347445e-03,  -7.48149921e-04]])"
      ]
     },
     "execution_count": 43,
     "metadata": {},
     "output_type": "execute_result"
    }
   ],
   "source": [
    "kmeans.cluster_centers_"
   ]
  }
 ],
 "metadata": {
  "kernelspec": {
   "display_name": "Python 3",
   "language": "python",
   "name": "python3"
  },
  "language_info": {
   "codemirror_mode": {
    "name": "ipython",
    "version": 3
   },
   "file_extension": ".py",
   "mimetype": "text/x-python",
   "name": "python",
   "nbconvert_exporter": "python",
   "pygments_lexer": "ipython3",
   "version": "3.5.2"
  }
 },
 "nbformat": 4,
 "nbformat_minor": 1
}
